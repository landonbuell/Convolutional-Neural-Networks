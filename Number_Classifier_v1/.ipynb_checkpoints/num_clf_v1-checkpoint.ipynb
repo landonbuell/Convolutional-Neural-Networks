{
 "cells": [
  {
   "cell_type": "code",
   "execution_count": 1,
   "metadata": {},
   "outputs": [],
   "source": [
    "\"\"\"\n",
    "Landon Buell\n",
    "Prof. Yu\n",
    "Number clf v1\n",
    "13 Feb 2020\n",
    "\"\"\"\n",
    "\n",
    "import numpy as np\n",
    "import matplotlib.pyplot as plt\n",
    "import pandas as pd"
   ]
  },
  {
   "cell_type": "code",
   "execution_count": 2,
   "metadata": {},
   "outputs": [],
   "source": [
    "# load in data\n",
    "filename = 'Metrics_Test_v1.txt'\n",
    "dataframe = pd.read_csv(filename,sep='\\t',header=0,index_col=0)\n",
    "dataframe.shape"
   ]
  },
  {
   "cell_type": "code",
   "execution_count": 12,
   "metadata": {},
   "outputs": [],
   "source": [
    "# extract all controll classifiers\n",
    "control_frame = dataframe.iloc[np.arange(0,40,4)]\n",
    "# extract noisy-clean classifier\n",
    "noisyclean_frame = dataframe.iloc[np.arange(1,40,4)]\n",
    "# extract clean-noisy classifier\n",
    "cleannoisy_frame = dataframe.iloc[np.arange(2,40,4)]\n",
    "# extract noisy-clean classifier\n",
    "noisy_frame = dataframe.iloc[np.arange(3,40,4)]"
   ]
  },
  {
   "cell_type": "code",
   "execution_count": null,
   "metadata": {},
   "outputs": [],
   "source": []
  }
 ],
 "metadata": {
  "kernelspec": {
   "display_name": "Python 3",
   "language": "python",
   "name": "python3"
  },
  "language_info": {
   "codemirror_mode": {
    "name": "ipython",
    "version": 3
   },
   "file_extension": ".py",
   "mimetype": "text/x-python",
   "name": "python",
   "nbconvert_exporter": "python",
   "pygments_lexer": "ipython3",
   "version": "3.7.3"
  }
 },
 "nbformat": 4,
 "nbformat_minor": 2
}
