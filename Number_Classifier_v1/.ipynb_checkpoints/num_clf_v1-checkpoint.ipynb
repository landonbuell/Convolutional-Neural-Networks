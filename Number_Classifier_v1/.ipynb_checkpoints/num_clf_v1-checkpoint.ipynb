{
 "cells": [
  {
   "cell_type": "code",
   "execution_count": 12,
   "metadata": {},
   "outputs": [],
   "source": [
    "\"\"\"\n",
    "Landon Buell\n",
    "Prof. Yu\n",
    "Number clf v1\n",
    "13 Feb 2020\n",
    "\"\"\"\n",
    "\n",
    "import numpy as np\n",
    "import matplotlib.pyplot as plt\n",
    "import pandas as pd\n",
    "\n",
    "names = 0\n",
    "precs = 1\n",
    "recall = 2\n",
    "f1 = 3"
   ]
  },
  {
   "cell_type": "code",
   "execution_count": 10,
   "metadata": {},
   "outputs": [
    {
     "data": {
      "text/plain": [
       "(40, 104)"
      ]
     },
     "execution_count": 10,
     "metadata": {},
     "output_type": "execute_result"
    }
   ],
   "source": [
    "# load in data\n",
    "filename = 'Metrics_Test_v1.txt'\n",
    "dataframe = pd.read_csv(filename,sep='\\t',header=0,index_col=0)\n",
    "dataframe.shape"
   ]
  },
  {
   "cell_type": "code",
   "execution_count": 11,
   "metadata": {},
   "outputs": [],
   "source": [
    "# extract all controll classifiers\n",
    "control_frame = dataframe.iloc[np.arange(0,40,4)]\n",
    "control = control_frame.to_numpy().transpose()\n",
    "# extract noisy-clean classifier\n",
    "noisyclean_frame = dataframe.iloc[np.arange(1,40,4)]\n",
    "noisyclean = noisyclean_frame.to_numpy().transpose()\n",
    "# extract clean-noisy classifier\n",
    "cleannoisy_frame = dataframe.iloc[np.arange(2,40,4)]\n",
    "cleannoisy = cleannoisy_frame.to_numpy().transpose()\n",
    "# extract noisy-clean classifier\n",
    "noisy_frame = dataframe.iloc[np.arange(3,40,4)]\n",
    "noisy = noisy_frame.to_numpy().transpose()"
   ]
  },
  {
   "cell_type": "code",
   "execution_count": 15,
   "metadata": {},
   "outputs": [
    {
     "name": "stdout",
     "output_type": "stream",
     "text": [
      "['Control_v0' 'Control_v1' 'Control_v2' 'Control_v3' 'Control_v4'\n",
      " 'Control_v5' 'Control_v6' 'Control_v7' 'Control_v8' 'Control_v9']\n",
      "0.8715733162926542\n",
      "0.8669496872799792\n",
      "0.8663630151280491\n",
      "['Noisy-Clean_v0' 'Noisy-Clean_v1' 'Noisy-Clean_v2' 'Noisy-Clean_v3'\n",
      " 'Noisy-Clean_v4' 'Noisy-Clean_v5' 'Noisy-Clean_v6' 'Noisy-Clean_v7'\n",
      " 'Noisy-Clean_v8' 'Noisy-Clean_v9']\n",
      "0.8889778037451194\n",
      "0.8822636338019528\n",
      "0.8828539366038097\n",
      "['Clean-Noisy_v0' 'Clean-Noisy_v1' 'Clean-Noisy_v2' 'Clean-Noisy_v3'\n",
      " 'Clean-Noisy_v4' 'Clean-Noisy_v5' 'Clean-Noisy_v6' 'Clean-Noisy_v7'\n",
      " 'Clean-Noisy_v8' 'Clean-Noisy_v9']\n",
      "0.6619770341314358\n",
      "0.642767808984203\n",
      "0.644077215629992\n",
      "['Noisy_v0' 'Noisy_v1' 'Noisy_v2' 'Noisy_v3' 'Noisy_v4' 'Noisy_v5'\n",
      " 'Noisy_v6' 'Noisy_v7' 'Noisy_v8' 'Noisy_v9']\n",
      "0.7948103076564518\n",
      "0.7895492276638127\n",
      "0.7898566989840685\n"
     ]
    }
   ],
   "source": [
    "arrays = [control,noisyclean,cleannoisy,noisy]\n",
    "\n",
    "for data in arrays:\n",
    "    print(data[names])\n",
    "    print(np.mean(data[precs]))\n",
    "    print(np.mean(data[recall]))\n",
    "    print(np.mean(data[f1]))"
   ]
  },
  {
   "cell_type": "code",
   "execution_count": 16,
   "metadata": {},
   "outputs": [],
   "source": [
    "control_tp = np.transpose(control)\n",
    "nscl_tp = np.transpose(noisyclean)\n",
    "clns_tp = np.transpose(cleannoisy)\n",
    "noisy_tp = np.transpose(noisy)"
   ]
  },
  {
   "cell_type": "code",
   "execution_count": 30,
   "metadata": {},
   "outputs": [],
   "source": [
    "def Plot_Confmat(data,title):\n",
    "    \"\"\" Plot Confusion Matrix \"\"\"\n",
    "    data = data.reshape(10,10).astype(float)\n",
    "    plt.imshow(data,cmap=plt.cm.binary)\n",
    "    plt.title(title,size=40,weight='bold')\n",
    "    plt.xlabel(\"Actual Class\",size=20,weight='bold')\n",
    "    plt.ylabel(\"Predicted Class\",size=20,weight='bold')\n",
    "    plt.savefig(title+'.png')\n",
    "    plt.show()\n",
    "\n",
    "#control_tp[0][4:]"
   ]
  },
  {
   "cell_type": "code",
   "execution_count": 29,
   "metadata": {},
   "outputs": [
    {
     "data": {
      "image/png": "[encoded data removed]",
      "text/plain": [
       "<Figure size 432x288 with 1 Axes>"
      ]
     },
     "metadata": {
      "needs_background": "light"
     },
     "output_type": "display_data"
    }
   ],
   "source": [
    "Plot_Confmat(control_tp[0][4:],'Control_Example')"
   ]
  },
  {
   "cell_type": "code",
   "execution_count": null,
   "metadata": {},
   "outputs": [],
   "source": [
    "Plot_Confmat(control_tp[0][4:],'Control Example')"
   ]
  }
 ],
 "metadata": {
  "kernelspec": {
   "display_name": "Python 3",
   "language": "python",
   "name": "python3"
  },
  "language_info": {
   "codemirror_mode": {
    "name": "ipython",
    "version": 3
   },
   "file_extension": ".py",
   "mimetype": "text/x-python",
   "name": "python",
   "nbconvert_exporter": "python",
   "pygments_lexer": "ipython3",
   "version": "3.7.4"
  }
 },
 "nbformat": 4,
 "nbformat_minor": 2
}
