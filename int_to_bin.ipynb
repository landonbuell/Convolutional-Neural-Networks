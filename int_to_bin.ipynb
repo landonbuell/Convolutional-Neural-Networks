{
 "cells": [
  {
   "cell_type": "code",
   "execution_count": 1,
   "metadata": {
    "scrolled": true
   },
   "outputs": [],
   "source": [
    "\"\"\"\n",
    "Landon Buell\n",
    "Swap Bits test\n",
    "\"\"\"\n",
    "\n",
    "import numpy as np"
   ]
  },
  {
   "cell_type": "code",
   "execution_count": 23,
   "metadata": {},
   "outputs": [
    {
     "data": {
      "text/plain": [
       "array([71.48701576, 65.20771762, 26.49717228, 96.98907822, 41.82830053,\n",
       "       71.14561441, 94.45234574, 32.51934376, 10.90891596, 33.16322327])"
      ]
     },
     "execution_count": 23,
     "metadata": {},
     "output_type": "execute_result"
    }
   ],
   "source": [
    "decimal_places = 8\n",
    "activations = np.random.random(10)*100\n",
    "#activations = np.round(activations,4)\n",
    "activations"
   ]
  },
  {
   "cell_type": "code",
   "execution_count": 24,
   "metadata": {},
   "outputs": [
    {
     "name": "stdout",
     "output_type": "stream",
     "text": [
      "Orignal val: 71.48701576494936\n",
      "Orignal val: 65.20771761679225\n",
      "Orignal val: 26.497172281332514\n",
      "Orignal val: 96.9890782180054\n",
      "Orignal val: 41.82830053229083\n",
      "Orignal val: 71.14561441052598\n",
      "Orignal val: 94.4523457404745\n",
      "Orignal val: 32.5193437641327\n",
      "Orignal val: 10.90891596108502\n",
      "Orignal val: 33.1632232669278\n"
     ]
    }
   ],
   "source": [
    "for neuron in activations:\n",
    "\n",
    "    # Original value\n",
    "    print(\"Orignal val:\",neuron)\n",
    "    \n",
    "    #break into int & decimal\n",
    "    intgr,decml = str(neuron).split(\".\")    \n",
    "    intgr = int(intgr) # integer part\n",
    "    decml = int(decml) # decimal part\n",
    "    \n",
    "    # convert to binary\n",
    "    intgr = bin(intgr)\n",
    "    decml = bin(decml)\n",
    "\n",
    "    \n",
    "        "
   ]
  },
  {
   "cell_type": "code",
   "execution_count": 27,
   "metadata": {},
   "outputs": [
    {
     "name": "stdout",
     "output_type": "stream",
     "text": [
      "100000000110011100110011001100110011001100110011001100110011010\n",
      "\n",
      "Decimal equivalent of 100000000110011100110011001100110011001100110011001100110011010\n",
      "19.6\n"
     ]
    }
   ],
   "source": [
    "import struct\n",
    " \n",
    "getBin = lambda x: x > 0 and str(bin(x))[2:] or \"-\" + str(bin(x))[3:]\n",
    " \n",
    "def floatToBinary64(value):\n",
    "    val = struct.unpack('Q', struct.pack('d', value))[0]\n",
    "    return getBin(val)\n",
    " \n",
    "def binaryToFloat(value):\n",
    "    hx = hex(int(value, 2))   \n",
    "    return struct.unpack(\"d\", struct.pack(\"q\", int(hx, 16)))[0]\n",
    " \n",
    "# floats are represented by IEEE 754 floating-point format which are \n",
    "# 64 bits long (not 32 bits)\n",
    " \n",
    "# float to binary\n",
    "binstr = floatToBinary64(19.6)\n",
    "\n",
    "print(binstr + '\\n')\n",
    " \n",
    "# binary to float\n",
    "fl = binaryToFloat(binstr)\n",
    "print('Decimal equivalent of ' + binstr)\n",
    "print(fl)"
   ]
  },
  {
   "cell_type": "code",
   "execution_count": 43,
   "metadata": {},
   "outputs": [],
   "source": [
    "import struct\n",
    "\n",
    "getBin = lambda x: x > 0 and str(bin(x))[2:] or \"-\" + str(bin(x))[3:]\n",
    "\n",
    "def FloatToBinary64(float_val):\n",
    "    \"\"\" Convert floating point number to 64-bit Binary String\"\"\"\n",
    "    val = struct.unpack('Q', struct.pack('d', float_val))[0]\n",
    "    return getBin(val)\n",
    "       \n",
    "def Binary64ToFloat(binary_val):\n",
    "    \"\"\" Convert 64-bit Binary String to floating point number\"\"\"\n",
    "    hx = hex(int(binary_val, 2))   \n",
    "    return struct.unpack(\"d\", struct.pack(\"q\", int(hx, 16)))[0]\n",
    "\n",
    "def swap_bits (binary_string):\n",
    "    \"\"\" genrate two indexs and swap them \"\"\"\n",
    "    pts = np.random.randint(low=0,high=63,size=2)\n",
    "    \n",
    "    string_list = list(binary_string)\n",
    "    string_list[pts[0]],string_list[pts[1]] = \\\n",
    "        string_list[pts[1]],string_list[pts[0]]\n",
    "    return ''.join(string_list)"
   ]
  },
  {
   "cell_type": "code",
   "execution_count": 44,
   "metadata": {},
   "outputs": [
    {
     "name": "stdout",
     "output_type": "stream",
     "text": [
      "Float: 71.48701576494936\n",
      "\tBinary String: 100000001010001110111110010101101000100001010111100011000000011\n",
      "\tSwapped String 100000001010001110111110010101101000100001010111100011000000011\n",
      "\tNew Float: 71.48701576494936\n",
      "Float: 65.20771761679225\n",
      "\tBinary String: 100000001010000010011010100101100111110110101001011101101000000\n",
      "\tSwapped String 100000001010000010011010100101100111110110101001011101101000000\n",
      "\tNew Float: 65.20771761679225\n",
      "Float: 26.497172281332514\n",
      "\tBinary String: 100000000111010011111110100011010101110110000001100110100000101\n",
      "\tSwapped String 100100000111010011111110100011010101110110000001100100100000101\n",
      "\tNew Float: 9.016520500602473e+39\n",
      "Float: 96.9890782180054\n",
      "\tBinary String: 100000001011000001111110100110100001110101110011110000100111010\n",
      "\tSwapped String 100000011010000001111110100110100001110101110011110000100111010\n",
      "\tNew Float: 16637.204023809383\n",
      "Float: 41.82830053229083\n",
      "\tBinary String: 100000001000100111010100000010111000000011110001011100101101001\n",
      "\tSwapped String 100000001000100110010100000010111000000011110001011100101111001\n",
      "\tNew Float: 41.578300532290946\n",
      "Float: 71.14561441052598\n",
      "\tBinary String: 100000001010001110010010101000110111111000110101100001001000100\n",
      "\tSwapped String 100000001010001110010010101000110111111000110101100001001000100\n",
      "\tNew Float: 71.14561441052598\n",
      "Float: 94.4523457404745\n",
      "\tBinary String: 100000001010111100111001111001100111011100011000111010010101010\n",
      "\tSwapped String 100000001010111100011001111011100111011100011000111010010101010\n",
      "\tNew Float: 94.2025898810995\n",
      "Float: 32.5193437641327\n",
      "\tBinary String: 100000001000000010000100111100111011011010000010010101001101110\n",
      "\tSwapped String 100000001000000110000100111100111011010010000010010101001101110\n",
      "\tNew Float: 33.51934364492341\n",
      "Float: 10.90891596108502\n",
      "\tBinary String: 100000000100101110100010101110101101110110011110101100001011011\n",
      "\tSwapped String 100000000100101110100010101110101101110110011110101100001011011\n",
      "\tNew Float: 10.90891596108502\n",
      "Float: 33.1632232669278\n",
      "\tBinary String: 100000001000000100101001110010010000000000000001011001101011010\n",
      "\tSwapped String 100000001000000100101001110010010000000000000001011001101011010\n",
      "\tNew Float: 33.1632232669278\n"
     ]
    }
   ],
   "source": [
    "for neuron in activations:\n",
    "    print(\"Float:\",neuron)\n",
    "    \n",
    "    binstr = FloatToBinary64(neuron)\n",
    "    print(\"\\tBinary String:\",binstr)\n",
    "    \n",
    "    swapstr = swap_bits(binstr)\n",
    "    print(\"\\tSwapped String\",swapstr)\n",
    "    \n",
    "    new_act = Binary64ToFloat(swapstr)\n",
    "    print(\"\\tNew Float:\",new_act)"
   ]
  },
  {
   "cell_type": "code",
   "execution_count": 35,
   "metadata": {},
   "outputs": [
    {
     "data": {
      "text/plain": [
       "'w'"
      ]
     },
     "execution_count": 35,
     "metadata": {},
     "output_type": "execute_result"
    }
   ],
   "source": [
    "mystring = 'hello,world!'\n"
   ]
  },
  {
   "cell_type": "code",
   "execution_count": null,
   "metadata": {},
   "outputs": [],
   "source": []
  }
 ],
 "metadata": {
  "kernelspec": {
   "display_name": "Python 3",
   "language": "python",
   "name": "python3"
  },
  "language_info": {
   "codemirror_mode": {
    "name": "ipython",
    "version": 3
   },
   "file_extension": ".py",
   "mimetype": "text/x-python",
   "name": "python",
   "nbconvert_exporter": "python",
   "pygments_lexer": "ipython3",
   "version": "3.7.3"
  }
 },
 "nbformat": 4,
 "nbformat_minor": 2
}
