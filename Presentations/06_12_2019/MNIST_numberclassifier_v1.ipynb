{
 "cells": [
  {
   "cell_type": "code",
   "execution_count": 1,
   "metadata": {},
   "outputs": [],
   "source": [
    "\"\"\"\n",
    "Landon Buell\n",
    "Adapted from A. Geron\n",
    "'Hands on Machine Learning' - Ch.3\n",
    "1 December 2019\n",
    "\"\"\"\n",
    "\n",
    "            #### IMPORTS ####\n",
    "    \n",
    "import numpy as np\n",
    "import matplotlib.pyplot as plt\n",
    "import matplotlib.cm as cm\n",
    "\n",
    "from sklearn.datasets import fetch_openml\n",
    "from sklearn.linear_model import SGDClassifier\n",
    "import sklearn.model_selection as model\n",
    "import sklearn.metrics as metrics\n"
   ]
  },
  {
   "cell_type": "code",
   "execution_count": 2,
   "metadata": {},
   "outputs": [
    {
     "name": "stdout",
     "output_type": "stream",
     "text": [
      "dict_keys(['data', 'target', 'feature_names', 'DESCR', 'details', 'categories', 'url'])\n"
     ]
    }
   ],
   "source": [
    "        #### COLLECT MNIST DATA ####\n",
    "    \n",
    "mnist = fetch_openml('mnist_784',version=1)\n",
    "print(mnist.keys())"
   ]
  },
  {
   "cell_type": "code",
   "execution_count": 3,
   "metadata": {
    "scrolled": true
   },
   "outputs": [
    {
     "name": "stdout",
     "output_type": "stream",
     "text": [
      "X_Data shape: (70000, 784)\n",
      "Y_Data shape: (70000,)\n"
     ]
    }
   ],
   "source": [
    "        #### ISOLATE DATA SETS ####\n",
    "\n",
    "X_data,Y_data = mnist['data'],mnist['target']\n",
    "\n",
    "print(\"X_Data shape:\",np.shape(X_data))\n",
    "print(\"Y_Data shape:\",np.shape(Y_data))\n",
    "\n",
    "# 70,000 images, each has 784 pixels\n",
    "# Each image is 28x28 \n",
    "\n",
    "Y_data = Y_data.astype(np.uint8)"
   ]
  },
  {
   "cell_type": "code",
   "execution_count": 4,
   "metadata": {},
   "outputs": [
    {
     "data": {
      "image/png": "[encoded data removed]",
      "text/plain": [
       "<Figure size 432x288 with 1 Axes>"
      ]
     },
     "metadata": {
      "needs_background": "light"
     },
     "output_type": "display_data"
    },
    {
     "name": "stdout",
     "output_type": "stream",
     "text": [
      "Image Labeled as: 1\n"
     ]
    }
   ],
   "source": [
    "            #### EXTRACT IMAGE AND VISUALIZE IT ####\n",
    "idx = 3\n",
    "digit = X_data[idx]\n",
    "image = digit.reshape(28,28)\n",
    "\n",
    "plt.imshow(image,cmap=cm.binary,interpolation='nearest')\n",
    "plt.axis(\"off\")\n",
    "plt.show()\n",
    "\n",
    "print(\"Image Labeled as:\",Y_data[idx])"
   ]
  },
  {
   "cell_type": "code",
   "execution_count": 5,
   "metadata": {},
   "outputs": [],
   "source": [
    "            #### DIVIDE INTO TRAINING & TESTING DATA SETS ####\n",
    "    \n",
    "X_train,X_test = X_data[:68000],X_data[68000:]\n",
    "Y_train,Y_test = Y_data[:68000],Y_data[68000:]\n",
    "\n",
    "# data is already shuffled approriately\n",
    "# All K-Folds cross-val test will be similar\n",
    "\n",
    "# Find all  indexes label w/ a desired digit\n",
    "\n",
    "target_digit = 4\n",
    "\n",
    "Y_train_target = (Y_train == target_digit)\n",
    "Y_test_target = (Y_test == target_digit)"
   ]
  },
  {
   "cell_type": "code",
   "execution_count": 6,
   "metadata": {
    "scrolled": false
   },
   "outputs": [
    {
     "data": {
      "image/png": "[encoded data removed]",
      "text/plain": [
       "<Figure size 432x288 with 1 Axes>"
      ]
     },
     "metadata": {
      "needs_background": "light"
     },
     "output_type": "display_data"
    },
    {
     "name": "stdout",
     "output_type": "stream",
     "text": [
      "Image Labeled as: 4\n",
      "Image is a 4: [ True]\n"
     ]
    }
   ],
   "source": [
    "            #### BUILDING A BINARY CLASSIFIER ####\n",
    "\n",
    "clf_3 = SGDClassifier(random_state=0)\n",
    "clf_3.fit(X_train,Y_train_target)\n",
    "\n",
    "          #### EXTRACT IMAGE AND VISUALIZE IT ####\n",
    "idx = 9\n",
    "digit = X_data[idx]\n",
    "image = digit.reshape(28,28)\n",
    "\n",
    "plt.imshow(image,cmap=cm.binary,interpolation='nearest')\n",
    "plt.axis(\"off\")\n",
    "plt.show()\n",
    "\n",
    "print(\"Image Labeled as:\",Y_data[idx])\n",
    "\n",
    "# use trained classifier to predict image above\n",
    "val = clf_3.predict([digit])\n",
    "print(\"Image is a 4:\",val)"
   ]
  },
  {
   "cell_type": "code",
   "execution_count": 7,
   "metadata": {},
   "outputs": [
    {
     "name": "stdout",
     "output_type": "stream",
     "text": [
      "Labels:\n",
      " [1 3 6 5 0 7 1 7 3 8 0 4 0 6 1 8 3 0 5 4]\n",
      "Predictions\n",
      " [False False False False False False False False False False False  True\n",
      " False False False False False False False  True]\n"
     ]
    }
   ],
   "source": [
    "        #### TESTING ON SOME RANDOM INDICIES ####\n",
    "    \n",
    "idxs = np.random.randint(0,2000,20)\n",
    "\n",
    "digits = X_test[idxs]#.reshape(784,10)\n",
    "labels = Y_test[idxs]\n",
    "predicts = clf_3.predict(digits)\n",
    "\n",
    "print(\"Labels:\\n\",labels)\n",
    "print(\"Predictions\\n\",predicts)\n",
    "    "
   ]
  },
  {
   "cell_type": "code",
   "execution_count": 8,
   "metadata": {},
   "outputs": [],
   "source": [
    "for I in range(0,4):\n",
    "    image = digits[I].reshape(28,28)\n",
    "    plt.figure(figsize=(4,4))\n",
    "    plt.imshow(image,cmap=cm.binary,interpolation='nearest')\n",
    "    plt.axis(\"off\")\n",
    "    plt.savefig('Image_'+str(I)+'.png')\n",
    "    plt.close()\n"
   ]
  },
  {
   "cell_type": "code",
   "execution_count": 9,
   "metadata": {
    "scrolled": true
   },
   "outputs": [
    {
     "name": "stdout",
     "output_type": "stream",
     "text": [
      "Confusion Matrix:\n",
      " [[60813   557]\n",
      " [ 1005  5625]]\n",
      "\n",
      "Precision Score 0.9098997088320931\n",
      "Recall Score 0.8484162895927602\n",
      "F1 Score: 0.8780830471433032\n"
     ]
    }
   ],
   "source": [
    "        #### TESTING PERFORMANCE OF CLASSIFIER ####\n",
    "    \n",
    "Y_train_prediction = model.cross_val_predict(clf_3,X_train,Y_train_target,cv=3)\n",
    "\n",
    "conf_mat = metrics.confusion_matrix(Y_train_target,Y_train_prediction)\n",
    "print(\"Confusion Matrix:\\n\",conf_mat)\n",
    "\n",
    "precision = metrics.precision_score(Y_train_target,Y_train_prediction)\n",
    "recall = metrics.recall_score(Y_train_target,Y_train_prediction)\n",
    "f1_sc = metrics.f1_score(Y_train_target,Y_train_prediction)\n",
    "\n",
    "print(\"\")\n",
    "print(\"Precision Score\",precision)\n",
    "print(\"Recall Score\",recall)\n",
    "print(\"F1 Score:\",f1_sc)"
   ]
  },
  {
   "cell_type": "code",
   "execution_count": null,
   "metadata": {},
   "outputs": [],
   "source": []
  }
 ],
 "metadata": {
  "kernelspec": {
   "display_name": "Python 3",
   "language": "python",
   "name": "python3"
  },
  "language_info": {
   "codemirror_mode": {
    "name": "ipython",
    "version": 3
   },
   "file_extension": ".py",
   "mimetype": "text/x-python",
   "name": "python",
   "nbconvert_exporter": "python",
   "pygments_lexer": "ipython3",
   "version": "3.7.4"
  }
 },
 "nbformat": 4,
 "nbformat_minor": 2
}
