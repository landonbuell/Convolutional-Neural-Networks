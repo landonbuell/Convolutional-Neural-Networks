{
 "cells": [
  {
   "cell_type": "code",
   "execution_count": 11,
   "metadata": {
    "scrolled": true
   },
   "outputs": [
    {
     "name": "stdout",
     "output_type": "stream",
     "text": [
      "<class 'numpy.float64'>\n"
     ]
    }
   ],
   "source": [
    "\"\"\"\n",
    "Landon Buell\n",
    "Swap Bits test\n",
    "\"\"\"\n",
    "\n",
    "import numpy as np\n",
    "import math\n",
    "\n",
    "x = np.array([-35.64408447,93.30969357,81.87736858,-198.37625323,\n",
    "               237.90115177,43.69760103,-39.31173765,478.11116483])\n",
    "\n",
    "x0 = x[0]\n",
    "print(type(x0))"
   ]
  },
  {
   "cell_type": "code",
   "execution_count": 14,
   "metadata": {},
   "outputs": [
    {
     "name": "stdout",
     "output_type": "stream",
     "text": [
      "Mantissa: -0.55693881984375\n",
      "Exponent: 6\n"
     ]
    }
   ],
   "source": [
    "M,E = math.frexp(x0)\n",
    "print(\"Mantissa:\",M)\n",
    "print(\"Exponent:\",E)"
   ]
  },
  {
   "cell_type": "code",
   "execution_count": 12,
   "metadata": {},
   "outputs": [
    {
     "name": "stdout",
     "output_type": "stream",
     "text": [
      "-35.64408447\n"
     ]
    }
   ],
   "source": [
    "print(M*2**E)"
   ]
  },
  {
   "cell_type": "code",
   "execution_count": 17,
   "metadata": {},
   "outputs": [
    {
     "name": "stdout",
     "output_type": "stream",
     "text": [
      "Mantissa: 0.625\n",
      "Exponent: 4\n"
     ]
    }
   ],
   "source": [
    "M,E = math.frexp(10.)\n",
    "print(\"Mantissa:\",M)\n",
    "print(\"Exponent:\",E)"
   ]
  },
  {
   "cell_type": "code",
   "execution_count": null,
   "metadata": {},
   "outputs": [],
   "source": []
  }
 ],
 "metadata": {
  "kernelspec": {
   "display_name": "Python 3",
   "language": "python",
   "name": "python3"
  },
  "language_info": {
   "codemirror_mode": {
    "name": "ipython",
    "version": 3
   },
   "file_extension": ".py",
   "mimetype": "text/x-python",
   "name": "python",
   "nbconvert_exporter": "python",
   "pygments_lexer": "ipython3",
   "version": "3.7.3"
  }
 },
 "nbformat": 4,
 "nbformat_minor": 2
}
