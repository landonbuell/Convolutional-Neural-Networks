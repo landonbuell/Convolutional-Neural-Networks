{
 "cells": [
  {
   "cell_type": "code",
   "execution_count": 44,
   "metadata": {},
   "outputs": [],
   "source": [
    "\"\"\"\n",
    "Landon Buell\n",
    "Qiaoyan Yu\n",
    "MNIST v3 Analysis\n",
    "31 March 2020\n",
    "\"\"\"\n",
    "\n",
    "import numpy as np\n",
    "import pandas as pd\n",
    "import os\n",
    "\n",
    "from sklearn.neural_network import MLPClassifier\n",
    "\n",
    "home = 'C:/Users/Landon/Documents/Github/Convolutional-Neural-Networks/Number_Classifier_v3'\n",
    "out = 'C:/Users/Landon/Documents/Github/Convolutional-Neural-Networks/Presentations/02_04_2020'\n",
    "\n",
    "paths = ['()','20','100','(20, 20)','(100, 100)','(20, 20, 20, 20)']\n",
    "models = ['control_v1.csv','round_to_0_v1.csv']\n",
    "\n",
    "os.chdir(home)"
   ]
  },
  {
   "cell_type": "code",
   "execution_count": 65,
   "metadata": {},
   "outputs": [],
   "source": [
    "def Analyze_Frames(data1,data2):\n",
    "    \"\"\" Analyze Dataframe for needed values \"\"\"\n",
    "    # drop froms from frame\n",
    "    data1 = data1.drop(['Name','layers'],axis=1)\n",
    "    data2 = data2.drop(['Name','layers'],axis=1)\n",
    "    # compute means\n",
    "    mean1 = data1.mean(axis=0)\n",
    "    mean2 = data2.mean(axis=0)\n",
    "   \n",
    "    # average time,loss val,iters\n",
    "    data = pd.concat([mean1,mean2],axis=1)\n",
    "    print(data.head(3))\n",
    "    \n",
    "def Analyze_Frames2(data1,data2):\n",
    "    \"\"\" Analyze Dataframe for needed values \"\"\"\n",
    "    # drop froms from frame\n",
    "    data1 = data1.drop(['Name','layers'],axis=1)\n",
    "    data2 = data2.drop(['Name','layers'],axis=1)\n",
    "    # compute means\n",
    "    mean1 = data1.mean(axis=0)\n",
    "    mean2 = data2.mean(axis=0)\n",
    "   \n",
    "    # average time,loss val,iters\n",
    "    data = pd.concat([mean1,mean2],axis=1)\n",
    "    \n",
    "    precsn = data.iloc[3:13]\n",
    "    recall = data.iloc[13:23]\n",
    "    \n",
    "    avg_prec = precsn.mean(axis=0)\n",
    "    avg_recl = recall.mean(axis=0)\n",
    "\n",
    "    print(\"\\tAvg Precision:\\n\",avg_prec)\n",
    "    print(\"\\tAvg Recall\\n\",avg_recl)"
   ]
  },
  {
   "cell_type": "code",
   "execution_count": 66,
   "metadata": {
    "scrolled": false
   },
   "outputs": [
    {
     "name": "stdout",
     "output_type": "stream",
     "text": [
      "C:/Users/Landon/Documents/Github/Convolutional-Neural-Networks/Number_Classifier_v3/()\n",
      "\tAvg Precision: 0    0.858712\n",
      "1    0.859069\n",
      "dtype: float64\n",
      "\tAvg Recall: 0    0.856789\n",
      "1    0.857029\n",
      "dtype: float64\n",
      "C:/Users/Landon/Documents/Github/Convolutional-Neural-Networks/Number_Classifier_v3/20\n",
      "\tAvg Precision: 0    0.165242\n",
      "1    0.158758\n",
      "dtype: float64\n",
      "\tAvg Recall: 0    0.211598\n",
      "1    0.139739\n",
      "dtype: float64\n",
      "C:/Users/Landon/Documents/Github/Convolutional-Neural-Networks/Number_Classifier_v3/100\n",
      "\tAvg Precision: 0    0.855230\n",
      "1    0.741226\n",
      "dtype: float64\n",
      "\tAvg Recall: 0    0.845842\n",
      "1    0.703482\n",
      "dtype: float64\n",
      "C:/Users/Landon/Documents/Github/Convolutional-Neural-Networks/Number_Classifier_v3/(20, 20)\n",
      "\tAvg Precision: 0    0.226885\n",
      "1    0.102349\n",
      "dtype: float64\n",
      "\tAvg Recall: 0    0.285867\n",
      "1    0.127776\n",
      "dtype: float64\n",
      "C:/Users/Landon/Documents/Github/Convolutional-Neural-Networks/Number_Classifier_v3/(100, 100)\n",
      "\tAvg Precision: 0    0.736892\n",
      "1    0.477699\n",
      "dtype: float64\n",
      "\tAvg Recall: 0    0.739866\n",
      "1    0.426414\n",
      "dtype: float64\n",
      "C:/Users/Landon/Documents/Github/Convolutional-Neural-Networks/Number_Classifier_v3/(20, 20, 20, 20)\n",
      "\tAvg Precision: 0    0.715778\n",
      "1    0.120012\n",
      "dtype: float64\n",
      "\tAvg Recall: 0    0.726083\n",
      "1    0.148764\n",
      "dtype: float64\n"
     ]
    }
   ],
   "source": [
    "for path in paths:\n",
    "    # each MLP layout\n",
    "    filepath = home+'/'+path\n",
    "    os.chdir(str(filepath))\n",
    "    print(filepath)\n",
    "\n",
    "    # Read Frames\n",
    "    control = pd.read_csv(filepath_or_buffer=filepath+'/'+'control_v1.csv',\n",
    "                    header=0,index_col=0,nrows=100)\n",
    "    modified = pd.read_csv(filepath_or_buffer=filepath+'/'+'round_to_0_v1.csv',\n",
    "                    header=0,index_col=0,nrows=100)\n",
    "    # analyze frames\n",
    "    vals = Analyze_Frames2(control,modified)\n",
    "    #print(\"\\t\",vals)"
   ]
  },
  {
   "cell_type": "code",
   "execution_count": 40,
   "metadata": {},
   "outputs": [
    {
     "name": "stdout",
     "output_type": "stream",
     "text": [
      "(100, 123)\n"
     ]
    }
   ],
   "source": [
    "control = pd.read_csv('C:/Users/Landon/Documents/Github/Convolutional-Neural-Networks/' + \\\n",
    "                      'Number_Classifier_v3/(20, 20)/control_v1.csv',\n",
    "                    header=0,index_col=0,nrows=100)\n",
    "modified = pd.read_csv('C:/Users/Landon/Documents/Github/Convolutional-Neural-Networks/' + \\\n",
    "                      'Number_Classifier_v3/(20, 20)/round_to_0_v1.csv',\n",
    "                    header=0,index_col=0,nrows=100)\n",
    "\n"
   ]
  },
  {
   "cell_type": "code",
   "execution_count": null,
   "metadata": {},
   "outputs": [],
   "source": []
  }
 ],
 "metadata": {
  "kernelspec": {
   "display_name": "Python 3",
   "language": "python",
   "name": "python3"
  },
  "language_info": {
   "codemirror_mode": {
    "name": "ipython",
    "version": 3
   },
   "file_extension": ".py",
   "mimetype": "text/x-python",
   "name": "python",
   "nbconvert_exporter": "python",
   "pygments_lexer": "ipython3",
   "version": "3.7.3"
  }
 },
 "nbformat": 4,
 "nbformat_minor": 2
}
